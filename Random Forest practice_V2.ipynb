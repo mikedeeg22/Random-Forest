{
 "cells": [
  {
   "cell_type": "code",
   "execution_count": 1,
   "metadata": {},
   "outputs": [],
   "source": [
    "import pandas as pd\n",
    "import numpy as np\n",
    "\n",
    "from sklearn.datasets import load_breast_cancer\n",
    "\n",
    "import matplotlib.pyplot as plt\n",
    "from pylab import rcParams\n",
    "\n",
    "from sklearn.model_selection import train_test_split\n",
    "from sklearn.model_selection import GridSearchCV, cross_val_score\n",
    "from sklearn.ensemble import RandomForestClassifier"
   ]
  },
  {
   "cell_type": "code",
   "execution_count": 2,
   "metadata": {},
   "outputs": [
    {
     "name": "stdout",
     "output_type": "stream",
     "text": [
      "<class 'pandas.core.frame.DataFrame'>\n",
      "RangeIndex: 887 entries, 0 to 886\n",
      "Data columns (total 10 columns):\n",
      "Survived                   887 non-null int64\n",
      "Age                        887 non-null float64\n",
      "Siblings/Spouses Aboard    887 non-null int64\n",
      "Parents/Children Aboard    887 non-null int64\n",
      "Fare                       887 non-null float64\n",
      "Pclass_1                   887 non-null uint8\n",
      "Pclass_2                   887 non-null uint8\n",
      "Pclass_3                   887 non-null uint8\n",
      "Sex_female                 887 non-null uint8\n",
      "Sex_male                   887 non-null uint8\n",
      "dtypes: float64(2), int64(3), uint8(5)\n",
      "memory usage: 39.1 KB\n",
      "None\n"
     ]
    }
   ],
   "source": [
    "#? load_breast_cancer\n",
    "#data = load_breast_cancer()\n",
    "#data1 = pd.DataFrame(data.data, columns=data.feature_names)\n",
    "#data1['Target'] = pd.Series(data.target)\n",
    "#data1.info()\n",
    "#print(data1['Target'].value_counts())\n",
    "\n",
    "data1=pd.read_csv('C:/Users/a121014/Downloads/titanic.csv')\n",
    "data1['Pclass'] = data1['Pclass'].astype('object')\n",
    "#print(data1.info())\n",
    "\n",
    "data2=data1.drop('Name', axis=1)\n",
    "\n",
    "data3 = pd.get_dummies(data2)\n",
    "print(data3.info())\n",
    "#data2.head()\n",
    "\n",
    "\n",
    "#data1.isnull().sum()"
   ]
  },
  {
   "cell_type": "code",
   "execution_count": 3,
   "metadata": {},
   "outputs": [],
   "source": [
    "#split up test/train\n",
    "\n",
    "y = data3[['Survived']]\n",
    "x = data3.drop(['Survived'], axis=1)\n",
    "\n",
    "#x.info()\n",
    "#y.info()\n",
    "\n",
    "x_train, x_valid, y_train, y_valid = train_test_split(x, y, test_size=0.2, random_state=7)"
   ]
  },
  {
   "cell_type": "code",
   "execution_count": 4,
   "metadata": {},
   "outputs": [
    {
     "name": "stdout",
     "output_type": "stream",
     "text": [
      "RandomForestClassifier(bootstrap=True, class_weight=None, criterion='gini',\n",
      "            max_depth=None, max_features='auto', max_leaf_nodes=None,\n",
      "            min_impurity_decrease=0.0, min_impurity_split=None,\n",
      "            min_samples_leaf=1, min_samples_split=2,\n",
      "            min_weight_fraction_leaf=0.0, n_estimators=10, n_jobs=1,\n",
      "            oob_score=False, random_state=42, verbose=0, warm_start=False)\n",
      "Accuracy Score_train: 0.97%\n",
      "Accuracy Score_valid: 0.80%\n"
     ]
    }
   ],
   "source": [
    "#test using default settings\n",
    "\n",
    "random_forest = RandomForestClassifier(random_state=42)\n",
    "print(random_forest.fit(x_train, y_train.values.ravel()))\n",
    "\n",
    "score_train = random_forest.score(x_train, y_train.values.ravel())\n",
    "score_valid = random_forest.score(x_valid, y_valid.values.ravel())\n",
    "\n",
    "print(\"Accuracy Score_train: %.2f%%\" % (score_train))\n",
    "print(\"Accuracy Score_valid: %.2f%%\" % (score_valid))"
   ]
  },
  {
   "cell_type": "code",
   "execution_count": 5,
   "metadata": {},
   "outputs": [
    {
     "name": "stdout",
     "output_type": "stream",
     "text": [
      "Fitting 3 folds for each of 16 candidates, totalling 48 fits\n"
     ]
    },
    {
     "name": "stderr",
     "output_type": "stream",
     "text": [
      "[Parallel(n_jobs=-1)]: Done  33 tasks      | elapsed:   15.7s\n",
      "[Parallel(n_jobs=-1)]: Done  48 out of  48 | elapsed:   24.1s finished\n"
     ]
    }
   ],
   "source": [
    "#Create the grid for grid search\n",
    "\n",
    "n_estimators = [10, 100, 1000, 2000]\n",
    "max_depth = [None, 5, 10, 20]\n",
    "param_grid = dict(n_estimators=n_estimators, max_depth=max_depth)\n",
    "\n",
    "#search the grid\n",
    "grid = GridSearchCV(estimator=random_forest, \n",
    "                    param_grid=param_grid,\n",
    "                    cv=3,\n",
    "                    verbose=2,\n",
    "                    n_jobs=-1)\n",
    "\n",
    "grid_result = grid.fit(x_train, y_train.values.ravel())"
   ]
  },
  {
   "cell_type": "code",
   "execution_count": 6,
   "metadata": {},
   "outputs": [
    {
     "name": "stdout",
     "output_type": "stream",
     "text": [
      "Best: 0.827927 using {'max_depth': 10, 'n_estimators': 100}\n",
      "0.796897 (0.008738) with: {'max_depth': None, 'n_estimators': 10}\n",
      "0.806770 (0.014290) with: {'max_depth': None, 'n_estimators': 100}\n",
      "0.816643 (0.009799) with: {'max_depth': None, 'n_estimators': 1000}\n",
      "0.815233 (0.010985) with: {'max_depth': None, 'n_estimators': 2000}\n",
      "0.808181 (0.010911) with: {'max_depth': 5, 'n_estimators': 10}\n",
      "0.816643 (0.008989) with: {'max_depth': 5, 'n_estimators': 100}\n",
      "0.823695 (0.010822) with: {'max_depth': 5, 'n_estimators': 1000}\n",
      "0.825106 (0.011330) with: {'max_depth': 5, 'n_estimators': 2000}\n",
      "0.803949 (0.006927) with: {'max_depth': 10, 'n_estimators': 10}\n",
      "0.827927 (0.005227) with: {'max_depth': 10, 'n_estimators': 100}\n",
      "0.823695 (0.010990) with: {'max_depth': 10, 'n_estimators': 1000}\n",
      "0.823695 (0.007812) with: {'max_depth': 10, 'n_estimators': 2000}\n",
      "0.796897 (0.008738) with: {'max_depth': 20, 'n_estimators': 10}\n",
      "0.808181 (0.013923) with: {'max_depth': 20, 'n_estimators': 100}\n",
      "0.816643 (0.009799) with: {'max_depth': 20, 'n_estimators': 1000}\n",
      "0.815233 (0.010985) with: {'max_depth': 20, 'n_estimators': 2000}\n",
      "RandomForestClassifier(bootstrap=True, class_weight=None, criterion='gini',\n",
      "            max_depth=10, max_features='auto', max_leaf_nodes=None,\n",
      "            min_impurity_decrease=0.0, min_impurity_split=None,\n",
      "            min_samples_leaf=1, min_samples_split=2,\n",
      "            min_weight_fraction_leaf=0.0, n_estimators=100, n_jobs=1,\n",
      "            oob_score=False, random_state=42, verbose=0, warm_start=False)\n",
      "{'max_depth': 10, 'n_estimators': 100}\n",
      "0.8279266572637518\n"
     ]
    }
   ],
   "source": [
    "# summarize results of grid search\n",
    "\n",
    "print(\"Best: %f using %s\" % (grid_result.best_score_, grid_result.best_params_))\n",
    "means = grid_result.cv_results_['mean_test_score']\n",
    "stds = grid_result.cv_results_['std_test_score']\n",
    "params = grid_result.cv_results_['params']\n",
    "for mean, stdev, param in zip(means, stds, params):\n",
    "    print(\"%f (%f) with: %r\" % (mean, stdev, param))\n",
    "\n",
    "#print the best estimator parameters and score\n",
    "\n",
    "print(grid_result.best_estimator_)\n",
    "print(grid_result.best_params_)\n",
    "print(grid_result.best_score_)"
   ]
  },
  {
   "cell_type": "code",
   "execution_count": 7,
   "metadata": {},
   "outputs": [
    {
     "name": "stdout",
     "output_type": "stream",
     "text": [
      "0.8253\n"
     ]
    }
   ],
   "source": [
    "#score full dataset with optimal parameters and oob validation\n",
    "\n",
    "rf_final = RandomForestClassifier(bootstrap=True, class_weight=None, criterion='gini',\n",
    "            max_depth=10, max_features='auto', max_leaf_nodes=None,\n",
    "            min_impurity_decrease=0.0, min_impurity_split=None,\n",
    "            min_samples_leaf=1, min_samples_split=2,\n",
    "            min_weight_fraction_leaf=0.0, n_estimators=100, n_jobs=1,\n",
    "            oob_score=True, random_state=42, verbose=0, warm_start=False)\n",
    "\n",
    "rf_final.fit(x, y.values.ravel())\n",
    "print(\"%.4f\" % rf_final.oob_score_)"
   ]
  },
  {
   "cell_type": "code",
   "execution_count": 8,
   "metadata": {},
   "outputs": [
    {
     "name": "stdout",
     "output_type": "stream",
     "text": [
      "Age = 0.23410091764251015\n",
      "Siblings/Spouses Aboard = 0.04747537253660458\n",
      "Parents/Children Aboard = 0.03161423007992536\n",
      "Fare = 0.219813587748413\n",
      "Pclass_1 = 0.03702532866788725\n",
      "Pclass_2 = 0.01808708785201821\n",
      "Pclass_3 = 0.06824483564902586\n",
      "Sex_female = 0.1947483623948147\n",
      "Sex_male = 0.14889027742880087\n"
     ]
    },
    {
     "data": {
      "image/png": "[encoded data removed]",
      "text/plain": [
       "<Figure size 432x288 with 1 Axes>"
      ]
     },
     "metadata": {},
     "output_type": "display_data"
    }
   ],
   "source": [
    "#print Variable importance\n",
    "\n",
    "for name, importance in zip(x.columns, rf_final.feature_importances_):\n",
    "        print(name, '=', importance)\n",
    "        \n",
    "features = x.columns\n",
    "importances = rf_final.feature_importances_\n",
    "indices=np.argsort(importances)\n",
    "\n",
    "plt.title('Feature Importances')\n",
    "plt.barh(range(len(indices)), importances[indices], color='b', align='center')\n",
    "plt.yticks(range(len(indices)), [features[i] for i in indices])\n",
    "plt.xlabel('Relative Importance')\n",
    "plt.show()"
   ]
  },
  {
   "cell_type": "code",
   "execution_count": 9,
   "metadata": {},
   "outputs": [
    {
     "name": "stdout",
     "output_type": "stream",
     "text": [
      "AUC_Train: 0.983\n",
      "AUC_Valid: 0.986\n"
     ]
    },
    {
     "data": {
      "text/plain": [
       "<matplotlib.legend.Legend at 0xb28b780>"
      ]
     },
     "execution_count": 9,
     "metadata": {},
     "output_type": "execute_result"
    },
    {
     "data": {
      "image/png": "[encoded data removed]",
      "text/plain": [
       "<Figure size 432x288 with 1 Axes>"
      ]
     },
     "metadata": {},
     "output_type": "display_data"
    }
   ],
   "source": [
    "#print ROC\n",
    "\n",
    "from sklearn.metrics import roc_auc_score, roc_curve, auc\n",
    "\n",
    "probs_train = rf_final.predict_proba(x_train)\n",
    "probs_valid = rf_final.predict_proba(x_valid)\n",
    "\n",
    "probs_train = probs_train[:,1]\n",
    "probs_valid = probs_valid[:,1]\n",
    "\n",
    "auc_valid=roc_auc_score(y_valid, probs_valid)\n",
    "auc_train=roc_auc_score(y_train, probs_train)\n",
    "print('AUC_Train: %.3f' % auc_train)\n",
    "print('AUC_Valid: %.3f' % auc_valid)\n",
    "\n",
    "\n",
    "fpr1, tpr1, thresholds1 = roc_curve(y_valid, probs_valid)\n",
    "fpr2, tpr2, thresholds2 = roc_curve(y_train, probs_train)\n",
    "\n",
    "plt.figure()\n",
    "lw=1\n",
    "plt.plot(fpr1, tpr1, color='darkorange',\n",
    "         lw=lw, label='ROC curve Valid (area = %0.2f)' % auc_valid)\n",
    "plt.plot(fpr2, tpr2, color='green',\n",
    "         lw=lw, label='ROC curve Train (area = %0.2f)' % auc_train)\n",
    "plt.plot([0, 1], [0, 1], color='navy', lw=lw, linestyle='--')\n",
    "plt.xlim([0.0, 1.0])\n",
    "plt.ylim([0.0, 1.05])\n",
    "plt.xlabel('False Positive Rate')\n",
    "plt.ylabel('True Positive Rate')\n",
    "plt.title('ROC Curve')\n",
    "plt.legend(loc=\"lower right\")"
   ]
  },
  {
   "cell_type": "code",
   "execution_count": null,
   "metadata": {},
   "outputs": [],
   "source": []
  }
 ],
 "metadata": {
  "kernelspec": {
   "display_name": "Python 3",
   "language": "python",
   "name": "python3"
  },
  "language_info": {
   "codemirror_mode": {
    "name": "ipython",
    "version": 3
   },
   "file_extension": ".py",
   "mimetype": "text/x-python",
   "name": "python",
   "nbconvert_exporter": "python",
   "pygments_lexer": "ipython3",
   "version": "3.6.5"
  }
 },
 "nbformat": 4,
 "nbformat_minor": 2
}
